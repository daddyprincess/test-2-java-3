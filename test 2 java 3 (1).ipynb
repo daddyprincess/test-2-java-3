{
 "cells": [
  {
   "cell_type": "markdown",
   "id": "d8a1492b-f9a9-47d1-a387-a98a22f880f9",
   "metadata": {},
   "source": [
    "## 3.average of a list"
   ]
  },
  {
   "cell_type": "code",
   "execution_count": null,
   "id": "f6128953-479e-431a-aaa2-77037a42681d",
   "metadata": {},
   "outputs": [],
   "source": [
    "import java.util.ArrayList;\n",
    "import java.util.List;\n",
    "import java.util.Scanner;\n",
    "\n",
    "public class AverageCalculator {\n",
    "    public static void main(String[] args) {\n",
    "        Scanner scanner = new Scanner(System.in);\n",
    "\n",
    "        List<Integer> numbers = new ArrayList<>();\n",
    "        int sum = 0;\n",
    "        int count = 0;\n",
    "        double average;\n",
    "\n",
    "        System.out.println(\"Enter a list of numbers (enter -1 to finish):\");\n",
    "\n",
    "        int number;\n",
    "        do {\n",
    "            number = scanner.nextInt();\n",
    "\n",
    "            if (number != -1) {\n",
    "                numbers.add(number);\n",
    "                sum += number;\n",
    "                count++;\n",
    "            }\n",
    "        } while (number != -1);\n",
    "\n",
    "        if (count > 0) {\n",
    "            average = (double) sum / count;\n",
    "            System.out.println(\"Average: \" + average);\n",
    "        } else {\n",
    "            System.out.println(\"No numbers entered.\");\n",
    "        }\n",
    "\n",
    "        scanner.close();\n",
    "    }\n",
    "}\n"
   ]
  }
 ],
 "metadata": {
  "kernelspec": {
   "display_name": "Python 3 (ipykernel)",
   "language": "python",
   "name": "python3"
  },
  "language_info": {
   "codemirror_mode": {
    "name": "ipython",
    "version": 3
   },
   "file_extension": ".py",
   "mimetype": "text/x-python",
   "name": "python",
   "nbconvert_exporter": "python",
   "pygments_lexer": "ipython3",
   "version": "3.10.8"
  }
 },
 "nbformat": 4,
 "nbformat_minor": 5
}
